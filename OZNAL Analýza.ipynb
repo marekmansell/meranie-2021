{
 "cells": [
  {
   "cell_type": "markdown",
   "id": "bb888c2f",
   "metadata": {},
   "source": [
    "V analýze používame nasledujúce knižnice:"
   ]
  },
  {
   "cell_type": "code",
   "execution_count": 160,
   "id": "7cc145f6",
   "metadata": {},
   "outputs": [],
   "source": [
    "import seaborn as sea\n",
    "import numpy as np\n",
    "import pandas as pd\n",
    "import scipy.stats as stats\n",
    "import statsmodels.api as sm\n",
    "import matplotlib.pyplot as plt\n",
    "\n",
    "from pandas.api.types import is_numeric_dtype"
   ]
  },
  {
   "cell_type": "markdown",
   "id": "3feb9bfd",
   "metadata": {},
   "source": [
    "Datasety (vo formáte csv) načítame do dataframov:"
   ]
  },
  {
   "cell_type": "code",
   "execution_count": 161,
   "id": "bcd0e10c",
   "metadata": {},
   "outputs": [],
   "source": [
    "pre_data = pd.read_csv(\"meranie_2021_pre.csv\")\n",
    "post_data = pd.read_csv(\"meranie_2021_post.csv\")"
   ]
  },
  {
   "cell_type": "markdown",
   "id": "9946f9fa",
   "metadata": {},
   "source": [
    "# Základné údaje o datasetoch"
   ]
  },
  {
   "cell_type": "code",
   "execution_count": 162,
   "id": "a552307d",
   "metadata": {},
   "outputs": [
    {
     "name": "stdout",
     "output_type": "stream",
     "text": [
      "<class 'pandas.core.frame.DataFrame'>\n",
      "RangeIndex: 388 entries, 0 to 387\n",
      "Columns: 112 entries, Timestamp to Súhlasím so spracovaním osobných údajov\n",
      "dtypes: float64(3), int64(37), object(72)\n",
      "memory usage: 339.6+ KB\n"
     ]
    }
   ],
   "source": [
    "pre_data.info()"
   ]
  },
  {
   "cell_type": "code",
   "execution_count": 163,
   "id": "4a83b7d0",
   "metadata": {},
   "outputs": [
    {
     "name": "stdout",
     "output_type": "stream",
     "text": [
      "<class 'pandas.core.frame.DataFrame'>\n",
      "RangeIndex: 149 entries, 0 to 148\n",
      "Columns: 130 entries, Timestamp to Ako hodnotíte nasledujúce metódy? [Metóda otázok a odpovedí]\n",
      "dtypes: int64(47), object(83)\n",
      "memory usage: 151.5+ KB\n"
     ]
    }
   ],
   "source": [
    "post_data.info()"
   ]
  },
  {
   "cell_type": "code",
   "execution_count": 164,
   "id": "4781c487",
   "metadata": {},
   "outputs": [],
   "source": [
    "pre_data = pre_data.rename(columns=lambda x: x.strip())\n",
    "post_data = post_data.rename(columns=lambda x: x.strip())"
   ]
  },
  {
   "cell_type": "code",
   "execution_count": 165,
   "id": "e7dc5391",
   "metadata": {},
   "outputs": [
    {
     "name": "stdout",
     "output_type": "stream",
     "text": [
      "Timestamp\n",
      "Email\n",
      "Meno a priezvisko\n",
      "Telefónne číslo\n",
      "Pohlavie\n",
      "Názov školy a adresa školy\n",
      "Absolvované vzdelanie:\n",
      "Koľko rokov učíte INF?\n",
      "Aké máte predchádzajúce skúsenosti s micro:bitmi?\n",
      "Ktoré programy/platformy využívate na hodinách?\n",
      "Zapojili ste sa v minulosti (aj so žiakmi) do nejakých INF projektov/súťaží? Ak áno, vymenujte.\n",
      "Aké mimoškolské krúžky a aktivity sú k dispozícii deťom na 2. stupni vo Vašej škole?\n",
      "S akými organizáciami už spolupracujete v rámci aktivít neformálneho vzdelávania?\n",
      "Aký podiel detí zo sociálne znevýhodneného prostredia navštevuje Vašu školu?\n",
      "Aké prostredia ste s BBC micro:bit využívali?\n",
      "Aký ďalší hardvér (príslušenstvo) pre micro:bit ste použili?\n",
      "Aké materiály ste použili pri príprave na vyučovanie alebo priamo na vyučovaní?\n",
      "Myslíte si, že BBC micro:bit Vám pomohol byť viac sebaistým/sebaistou vo výučbe informatiky?\n",
      "Myslíte si, že výučba s BBC micro:bit spravila Vaše hodiny zaujímavejšími?\n",
      "Odhadom, koľko vyučovacích hodín ste celkovo odučili s BBC micro:bit?\n",
      "Čo ste schopný(á) urobiť s veľmi problémovými žiakmi?\n",
      "Čo ste schopný(á) urobiť, aby ste naučil(a) žiakov kriticky myslieť?\n",
      "Čo ste schopný(á) urobiť, aby ste zabránili vyrušovaniu žiakov?\n",
      "Čo ste schopný(á) urobiť na zvýšenie motivácie žiakov, ktorých vyučovanie nezaujíma?\n",
      "Čo ste schopný(á) urobiť, aby žiaci pochopili, aké správanie od nich očakávate?\n",
      "Čo ste schopný(á) urobiť, aby ste presvedčili žiakov, že majú naviac?\n",
      "Čo ste schopný(á) urobiť, keď vám žiaci dávajú ťažké otázky?\n",
      "Čo ste schopný(á) urobiť, aby rutinné činnosti na vyučovaní prebiehali hladko?\n",
      "Čo ste schopný(á) urobiť, aby si vaši žiaci vážili vzdelávanie?\n",
      "Čo ste schopný(á) urobiť, aby žiaci lepšie pochopili učivo?\n",
      "Čo ste schopný(á) urobiť, aby ste formulovali žiakom primerané otázky?\n",
      "Čo ste schopný(á) urobiť na rozvíjanie tvorivosti žiakov?\n",
      "Čo ste schopný(á) urobiť, aby žiaci dodržiavali školský poriadok?\n",
      "Čo ste schopný(á) urobiť, aby ste prehĺbili vaše poznanie, prečo žiak neprospieva?\n",
      "Čo ste schopný(á) urobiť, aby ste zvládli vyrušujúcich žiakov?\n",
      "Čo ste schopný(á) urobiť, aby ste v triede zaviedli dobrý systém riadenia?\n",
      "Čo ste schopný(á) urobiť, aby ste prispôsobili obtiažnosť učiva schopnostiam žiakov?\n",
      "Čo ste schopný(á) urobiť, aby ste používali pestré možnosti preverovania vedomostí a zručností?\n",
      "Čo ste schopný(á) urobiť, aby ste eliminovali jednotlivcov, ktorí sú schopní rozbiť celú hodinu?\n",
      "Čo ste schopný(á) urobiť, keď žiaci vôbec nerozumejú učivu?\n",
      "Čo ste schopný(á) urobiť voči drzým žiakom?\n",
      "Čo ste schopný(á) urobiť pre rodiny, aby ich deti prospievali v škole?\n",
      "Čo ste schopný(á) urobiť, aby ste zaviedli inovácie do vášho vyučovania?\n",
      "Čo ste schopný(á) urobiť, aby ste podporovali rozvoj talentovaných žiakov?\n",
      "Využívam IKT pri prezentovaní učiva tradičným spôsobom (výklad)\n",
      "Pri doučovaní alebo cez mimoškolskú činnosť využívam IKT\n",
      "Využívam IKT pri diskusiách a prezentáciách\n",
      "Na hodnotenie študentov (napr. testov) využívam IKT\n",
      "Pri dávaní spätnej väzby využívam cez IKT\n",
      "Využívam IKT pri upevňovaní učiva (opakovanie)\n",
      "Na podporu spolupráce medzi študentmi využívam IKT\n",
      "Pri spolupráci s ostatnými učiteľmi využívam IKT\n",
      "Systematicky pomáham kolegom pri zavádzaní IKT do vyučovania\n",
      "Ako dobre viete využívať tabuľkový kalkulátor (napr. MS Excel) na analýzu údajov alebo vedenia záznamov?\n",
      "Ako dobre sa viete zapájať do diskusie na internete?\n",
      "Ako dobre viete spolupracovať s ostatnými cez zdieľané zdroje, napr. Google Docs?\n",
      "Ako dobre viete inštalovať softvér (program)?\n",
      "Ako dobre viete sledovať pokrok žiakov?\n",
      "Ako dobre viete pripraviť vyučovaciu hodinu, kde žiakov zapájate do využívania IKT?\n",
      "Ako dobre viete hodnotiť učenie žiakov?\n",
      "Na prípravu vyučovania využívajúceho IKT nie je dostatok času.\n",
      "Na rozvoj IKT zručností nemáme dostatočné zabezpečenie (finančné, organizačné...)\n",
      "Nemám dostatočnú technickú podporu pri zavádzaní IKT do vyučovania\n",
      "Ako často využívate na INF nasledujúce stratégie na programovanie? [Vývojové diagramy]\n",
      "Ako často využívate na INF nasledujúce stratégie na programovanie? [Pseudokód]\n",
      "Ako často využívate na INF nasledujúce stratégie na programovanie? [Programovanie vo dvojici (Párové programovanie)]\n",
      "Ako často využívate na INF nasledujúce stratégie na programovanie? [Debuggovanie/ladenie programov]\n",
      "Ako často využívate na INF nasledujúce stratégie na programovanie? [Programovanie ukážok naživo - Spoločné riešenie]\n",
      "Ako často využívate na INF nasledujúce stratégie na programovanie? [Krokovanie programu]\n",
      "Ako často využívate na INF nasledujúce stratégie na programovanie? [Bádateľské aktivity]\n",
      "Ako často využívate na INF nasledujúce stratégie na programovanie? [Tvorivé projekty s otvoreným koncom]\n",
      "Ako často využívate na INF nasledujúce stratégie na programovanie? [Kopírovanie programov]\n",
      "Ako často využívate na INF nasledujúce stratégie na programovanie? [Slovné vysvetľovanie programu]\n",
      "Ako často využívate na INF nasledujúce stratégie na programovanie? [Komentovanie programu]\n",
      "Ako často využívate na INF nasledujúce stratégie na programovanie? [Medzipredmetové vzťahy]\n",
      "Ako hodnotíte nasledujúce metódy? [Vývojové diagramy]\n",
      "Ako hodnotíte nasledujúce metódy? [Pseudokód]\n",
      "Ako hodnotíte nasledujúce metódy? [Programovanie vo dvojici (Párové programovanie)]\n",
      "Ako hodnotíte nasledujúce metódy? [Debuggovanie/ladenie programov]\n",
      "Ako hodnotíte nasledujúce metódy? [Programovanie ukážok naživo - Spoločné riešenie]\n",
      "Ako hodnotíte nasledujúce metódy? [Krokovanie programu]\n",
      "Ako hodnotíte nasledujúce metódy? [Bádateľské aktivity]\n",
      "Ako hodnotíte nasledujúce metódy? [Tvorivé projekty s otvoreným koncom]\n",
      "Ako hodnotíte nasledujúce metódy? [Kopírovanie programov]\n",
      "Ako hodnotíte nasledujúce metódy? [Slovné vysvetľovanie programu]\n",
      "Ako hodnotíte nasledujúce metódy? [Komentovanie programu]\n",
      "Ako hodnotíte nasledujúce metódy? [Medzipredmetové vzťahy]\n",
      "Ako často využívate na INF nasledujúce metódy? [Prezentácia]\n",
      "Ako často využívate na INF nasledujúce metódy? [Ukážka]\n",
      "Ako často využívate na INF nasledujúce metódy? [Tvorba projektov]\n",
      "Ako často využívate na INF nasledujúce metódy? [Diskusia]\n",
      "Ako často využívate na INF nasledujúce metódy? [Práca v skupine]\n",
      "Ako často využívate na INF nasledujúce metódy? [Kooperatívne vyučovanie]\n",
      "Ako často využívate na INF nasledujúce metódy? [Učenie sa pomocou objavovania]\n",
      "Ako často využívate na INF nasledujúce metódy? [Samostatná práca]\n",
      "Ako často využívate na INF nasledujúce metódy? [Storytelling/Rozprávanie príbehov]\n",
      "Ako často využívate na INF nasledujúce metódy? [Rovesnícke učenie]\n",
      "Ako často využívate na INF nasledujúce metódy? [Dramatická výchova (hra)]\n",
      "Ako často využívate na INF nasledujúce metódy? [Metóda otázok a odpovedí]\n",
      "Ako hodnotíte nasledujúce metódy? [Prezentácia]\n",
      "Ako hodnotíte nasledujúce metódy? [Ukážka]\n",
      "Ako hodnotíte nasledujúce metódy? [Tvorba projektov]\n",
      "Ako hodnotíte nasledujúce metódy? [Diskusia]\n",
      "Ako hodnotíte nasledujúce metódy? [Práca v skupine]\n",
      "Ako hodnotíte nasledujúce metódy? [Kooperatívne vyučovanie]\n",
      "Ako hodnotíte nasledujúce metódy? [Učenie sa pomocou objavovania]\n",
      "Ako hodnotíte nasledujúce metódy? [Samostatná práca]\n",
      "Ako hodnotíte nasledujúce metódy? [Storytelling/Rozprávanie príbehov]\n",
      "Ako hodnotíte nasledujúce metódy? [Rovesnícke učenie]\n",
      "Ako hodnotíte nasledujúce metódy? [Dramatická výchova (hra)]\n",
      "Ako hodnotíte nasledujúce metódy? [Metóda otázok a odpovedí]\n",
      "Súhlasím so spracovaním osobných údajov\n"
     ]
    }
   ],
   "source": [
    "for col in pre_data.columns:\n",
    "    print(col)"
   ]
  },
  {
   "cell_type": "code",
   "execution_count": 166,
   "id": "471fbdfc",
   "metadata": {},
   "outputs": [
    {
     "name": "stdout",
     "output_type": "stream",
     "text": [
      "Timestamp\n",
      "Email\n",
      "Číslo žiadosti\n",
      "Meno a priezvisko\n",
      "Telefónne číslo\n",
      "Pohlavie\n",
      "Názov školy a adresa školy\n",
      "Zmenil sa počas školského roka zodpovedný riešiteľ projektu? (napr. kolega odišiel a Vy ste prevzali jeho projekt)\n",
      "Absolvované vzdelanie:\n",
      "Koľko rokov učíte INF?\n",
      "Aké máte skúsenosti s micro:bitmi?\n",
      "Ktoré programy/platformy využívate na hodinách?\n",
      "Zapojili ste sa tento školský rok (aj so žiakmi) do nejakých INF projektov/súťaží? Ak áno, vymenujte.\n",
      "S akými organizáciami už spolupracujete v rámci aktivít neformálneho vzdelávania?\n",
      "Všimli ste si záujem kolegov (učiteľov iných predmetov) ohľadom micro:bit aktivít?\n",
      "Aký podiel detí zo sociálne znevýhodneného prostredia navštevuje Vašu školu?\n",
      "Aké prostredia ste s BBC micro:bit využívali?\n",
      "Aký HW pre micro:bit ste použili?\n",
      "Aké materiály ste použili pri príprave na vyučovanie alebo priamo na vyučovaní?\n",
      "Myslíte si, že BBC micro:bit Vám pomohol byť viac sebaistým/sebaistou vo výučbe informatiky?\n",
      "Myslíte si, že výučba s BBC micro:bit spravila Vaše hodiny zaujímavejšími?\n",
      "Odhadom, koľko vyučovacích hodín ste celkovo odučili s BBC micro:bit? Prosím, napíšte LEN číslo.\n",
      "Zúčastnili ste sa ENTER školení?\n",
      "Mám pocit, že som sa vďaka ENTER školeniam o BBC micro:bite... (možno vybrať viac odpovedí)\n",
      "Ako veľmi ste sa posunuli pedagogicky?\n",
      "Ako veľmi ste sa posunuli odborne?\n",
      "Plánujete sa do ENTER projektu zapojiť aj v budúcnosti?\n",
      "Podarilo sa Vám v rámci ENTER projektu splniť ciele?\n",
      "BBC micro:bit ukázal mojim žiakom, že je ľahšie programovať, ako si mysleli.\n",
      "Vďaka BBC micro:bit sa moji žiaci chceli dozvedieť viac o programovaní a technológiách.\n",
      "Pri práci s BBC micro:bit som zažil, že moji žiaci vyjadrujú, že technológie sú niečo pre nich.\n",
      "Do akej miery BBC micro:bit pomohol žiakom spozitívniť postoj k technológiám?\n",
      "Pomohol Vám projekt ENTER učiť žiakov používať programovanie na kreatívne riešenia problémov?\n",
      "Inšpiroval Vás Projekt ENTER vo vytváraní vlastných učebných materiálov / aktivít s micro:bitom?\n",
      "Zúčastnili ste sa za uplynulý rok nejakých učiteľských školení (nie iba INF) alebo ste sa zapojili aj do iného nového projektu ako projektu ENTER? Ak áno, prosím, vymenujte.\n",
      "S koľkými žiakmi ste celkovo pracovali s micro:bitmi? (aspoň 1 hodinu)\n",
      "S koľkými žiakmi ste sa micro:bitom venovali dlhodobejšie? (aspoň 1 hodinu)\n",
      "Dostali ste podporu v realizovaní projektu aj od Vášho vedenia?\n",
      "Zapožičali ste micro:bity domov žiakom počas dištančného vyučovania?\n",
      "Čo ste schopný(á) urobiť s veľmi problémovými žiakmi?\n",
      "Čo ste schopný(á) urobiť, aby ste naučil(a) žiakov kriticky myslieť?\n",
      "Čo ste schopný(á) urobiť, aby ste zabránili vyrušovaniu žiakov?\n",
      "Čo ste schopný(á) urobiť na zvýšenie motivácie žiakov, ktorých vyučovanie nezaujíma?\n",
      "Čo ste schopný(á) urobiť, aby žiaci pochopili, aké správanie od nich očakávate?\n",
      "Čo ste schopný(á) urobiť, aby ste presvedčili žiakov, že majú naviac?\n",
      "Čo ste schopný(á) urobiť, keď vám žiaci dávajú ťažké otázky?\n",
      "Čo ste schopný(á) urobiť, aby rutinné činnosti na vyučovaní prebiehali hladko?\n",
      "Čo ste schopný(á) urobiť, aby si vaši žiaci vážili vzdelávanie?\n",
      "Čo ste schopný(á) urobiť, aby žiaci lepšie pochopili učivo?\n",
      "Čo ste schopný(á) urobiť, aby ste formulovali žiakom primerané otázky?\n",
      "Čo ste schopný(á) urobiť na rozvíjanie tvorivosti žiakov?\n",
      "Čo ste schopný(á) urobiť, aby žiaci dodržiavali školský poriadok?\n",
      "Čo ste schopný(á) urobiť, aby ste prehĺbili vaše poznanie, prečo žiak neprospieva?\n",
      "Čo ste schopný(á) urobiť, aby ste zvládli vyrušujúcich žiakov?\n",
      "Čo ste schopný(á) urobiť, aby ste v triede zaviedli dobrý systém riadenia?\n",
      "Čo ste schopný(á) urobiť, aby ste prispôsobili obtiažnosť učiva schopnostiam žiakov?\n",
      "Čo ste schopný(á) urobiť, aby ste používali pestré možnosti preverovania vedomostí a zručností?\n",
      "Čo ste schopný(á) urobiť, aby ste eliminovali jednotlivcov, ktorí sú schopní rozbiť celú hodinu?\n",
      "Čo ste schopný(á) urobiť, keď žiaci vôbec nerozumejú učivu?\n",
      "Čo ste schopný(á) urobiť voči drzým žiakom?\n",
      "Čo ste schopný(á) urobiť pre rodiny, aby ich deti prospievali v škole?\n",
      "Čo ste schopný(á) urobiť, aby ste zaviedli inovácie do vášho vyučovania?\n",
      "Čo ste schopný(á) urobiť, aby ste podporovali rozvoj talentovaných žiakov?\n",
      "Prezentovanie učiva tradičným spôsobom (výklad)\n",
      "Poskytovanie doučovania alebo aktivít nad rámec vyučovania (mimoškolská činnosť)\n",
      "Diskusie a prezentácie študentov v rámci triedy\n",
      "Hodnotenie študentov pomocou testov\n",
      "Poskytovanie spätnej väzby študentom\n",
      "Upevňovanie učiva cez opakovanie príkladov\n",
      "Podpora spolupráce medzi študentmi\n",
      "Spolupracujem s ostatnými učiteľmi\n",
      "Systematicky pomáham kolegom pri zavádzaní IKT do vyučovania\n",
      "Ako dobre viete využívať tabuľkový kalkulátor (napr. MS Excel) na analýzu údajov alebo vedenia záznamov?\n",
      "Ako dobre sa viete zapájať do diskusie na internete?\n",
      "Ako dobre viete spolupracovať s ostatnými cez zdieľané zdroje, napr. Google Docs?\n",
      "Ako dobre viete inštalovať softvér (program)?\n",
      "Ako dobre viete sledovať pokrok žiakov?\n",
      "Ako dobre viete pripraviť vyučovaciu hodinu, kde žiakov zapájate do využívania IKT?\n",
      "Ako dobre viete hodnotiť učenie žiakov?\n",
      "Na prípravu vyučovania využívajúceho IKT nie je dostatok času.\n",
      "Na rozvoj IKT zručností nemáme dostatočné zabezpečenie (finančné, organizačné...)\n",
      "Nemám dostatočnú technickú podporu pri zavádzaní IKT do vyučovania\n",
      "Ako často využívate na INF nasledujúce stratégie na programovanie? [Vývojové diagramy]\n",
      "Ako často využívate na INF nasledujúce stratégie na programovanie? [Pseudokód]\n",
      "Ako často využívate na INF nasledujúce stratégie na programovanie? [Programovanie vo dvojici (Párové programovanie)]\n",
      "Ako často využívate na INF nasledujúce stratégie na programovanie? [Debuggovanie/ladenie programov]\n",
      "Ako často využívate na INF nasledujúce stratégie na programovanie? [Programovanie ukážok naživo - Spoločné riešenie]\n",
      "Ako často využívate na INF nasledujúce stratégie na programovanie? [Krokovanie programu]\n",
      "Ako často využívate na INF nasledujúce stratégie na programovanie? [Bádateľské aktivity]\n",
      "Ako často využívate na INF nasledujúce stratégie na programovanie? [Tvorivé projekty s otvoreným koncom]\n",
      "Ako často využívate na INF nasledujúce stratégie na programovanie? [Kopírovanie programov]\n",
      "Ako často využívate na INF nasledujúce stratégie na programovanie? [Slovné vysvetľovanie programu]\n",
      "Ako často využívate na INF nasledujúce stratégie na programovanie? [Komentovanie programu]\n",
      "Ako často využívate na INF nasledujúce stratégie na programovanie? [Medzipredmetové vzťahy]\n",
      "Ako hodnotíte nasledujúce metódy? [Vývojové diagramy]\n",
      "Ako hodnotíte nasledujúce metódy? [Pseudokód]\n",
      "Ako hodnotíte nasledujúce metódy? [Programovanie vo dvojici (Párové programovanie)]\n",
      "Ako hodnotíte nasledujúce metódy? [Debuggovanie/ladenie programov]\n",
      "Ako hodnotíte nasledujúce metódy? [Programovanie ukážok naživo - Spoločné riešenie]\n",
      "Ako hodnotíte nasledujúce metódy? [Krokovanie programu]\n",
      "Ako hodnotíte nasledujúce metódy? [Bádateľské aktivity]\n",
      "Ako hodnotíte nasledujúce metódy? [Tvorivé projekty s otvoreným koncom]\n",
      "Ako hodnotíte nasledujúce metódy? [Kopírovanie programov]\n",
      "Ako hodnotíte nasledujúce metódy? [Slovné vysvetľovanie programu]\n",
      "Ako hodnotíte nasledujúce metódy? [Komentovanie programu]\n",
      "Ako hodnotíte nasledujúce metódy? [Medzipredmetové vzťahy]\n",
      "Ako často využívate nasledujúce metódy? [Prezentácia]\n",
      "Ako často využívate nasledujúce metódy? [Ukážka]\n",
      "Ako často využívate nasledujúce metódy? [Tvorba projektov]\n",
      "Ako často využívate nasledujúce metódy? [Diskusia]\n",
      "Ako často využívate nasledujúce metódy? [Práca v skupine]\n",
      "Ako často využívate nasledujúce metódy? [Kooperatívne vyučovanie]\n",
      "Ako často využívate nasledujúce metódy? [Učenie sa pomocou objavovania]\n",
      "Ako často využívate nasledujúce metódy? [Samostatná práca]\n",
      "Ako často využívate nasledujúce metódy? [Storytelling/Rozprávanie príbehov]\n",
      "Ako často využívate nasledujúce metódy? [Rovesnícke učenie]\n",
      "Ako často využívate nasledujúce metódy? [Dramatická výchova (hra)]\n",
      "Ako často využívate nasledujúce metódy? [Metóda otázok a odpovedí]\n",
      "Ako hodnotíte nasledujúce metódy? [Prezentácia]\n",
      "Ako hodnotíte nasledujúce metódy? [Ukážka]\n",
      "Ako hodnotíte nasledujúce metódy? [Tvorba projektov]\n",
      "Ako hodnotíte nasledujúce metódy? [Diskusia]\n",
      "Ako hodnotíte nasledujúce metódy? [Práca v skupine]\n",
      "Ako hodnotíte nasledujúce metódy? [Kooperatívne vyučovanie]\n",
      "Ako hodnotíte nasledujúce metódy? [Učenie sa pomocou objavovania]\n",
      "Ako hodnotíte nasledujúce metódy? [Samostatná práca]\n",
      "Ako hodnotíte nasledujúce metódy? [Storytelling/Rozprávanie príbehov]\n",
      "Ako hodnotíte nasledujúce metódy? [Rovesnícke učenie]\n",
      "Ako hodnotíte nasledujúce metódy? [Dramatická výchova (hra)]\n",
      "Ako hodnotíte nasledujúce metódy? [Metóda otázok a odpovedí]\n"
     ]
    }
   ],
   "source": [
    "for col in post_data.columns:\n",
    "    print(col)"
   ]
  },
  {
   "cell_type": "markdown",
   "id": "1dea6a0d",
   "metadata": {},
   "source": [
    "Datasety boli získané v rámci merania vykonávaného na učiteľoch a učiteľkách ZŠ a SŠ, ktorí boli zapojení do projektu [ENTER](https://enter.study/) (prvé kolo). V rámci tohto projektu pracovali s [micro:bitmi](https://www.ucimeshardverom.sk/materialy/zacni/) na hodinách informatiky. Dataset \"pre_data\" bol zozbieraný v období od Odkóbra po December 2020. Dataset \"post_data\" bol zozbieraný v období od Jún 2021 po Decembre 2022 (podľa toho, kedy učitelia končili projekt).\n",
    "\n",
    "**Riadky**  \n",
    "- Dataset `pre_data` obsahuje 390 riadkov, `post_data` obsahuje 150 riadkov.\n",
    "\n",
    "**Stĺpce**\n",
    "- Dataset `pre_data` obsahuje 112 stĺpcov, `post_data` obsahuje 130 stĺpcov.\n",
    "- Oba datasety obsahujú osobné údaje (email, meno a priezvisko, tel. číslo). Tieto údaje nám vedia pomôcť pri párovaní záznamov z pre a post dotazníkov, avšak je potrebné zabezpečiť ich ochranu v súlade s GDPR."
   ]
  },
  {
   "cell_type": "markdown",
   "id": "e8c566c3",
   "metadata": {},
   "source": [
    "# Párovanie záznamov\n",
    "\n",
    "## Deduplikácia\n",
    "\n",
    "- V POST dotazníku neboli žiadne duplikáty (na základe mailovej adresy).\n",
    "- V PRE dotazníku bolo 12 duplikátov (na základe mailovej adresy) ktoré sme manuálne v CSV súbore odstránili.\n",
    "- Okrem toho sme vymazali aj testovacie záznamy (od nadácie Pontis napr.)\n"
   ]
  },
  {
   "cell_type": "code",
   "execution_count": 167,
   "id": "649dd5b2",
   "metadata": {},
   "outputs": [],
   "source": [
    "pre_data['Email'] = pre_data['Email'].str.strip()"
   ]
  },
  {
   "cell_type": "code",
   "execution_count": 168,
   "id": "bc9beb01",
   "metadata": {
    "scrolled": true
   },
   "outputs": [
    {
     "data": {
      "text/html": [
       "<div>\n",
       "<style scoped>\n",
       "    .dataframe tbody tr th:only-of-type {\n",
       "        vertical-align: middle;\n",
       "    }\n",
       "\n",
       "    .dataframe tbody tr th {\n",
       "        vertical-align: top;\n",
       "    }\n",
       "\n",
       "    .dataframe thead th {\n",
       "        text-align: right;\n",
       "    }\n",
       "</style>\n",
       "<table border=\"1\" class=\"dataframe\">\n",
       "  <thead>\n",
       "    <tr style=\"text-align: right;\">\n",
       "      <th></th>\n",
       "      <th>Timestamp</th>\n",
       "      <th>Email</th>\n",
       "      <th>Meno a priezvisko</th>\n",
       "      <th>Telefónne číslo</th>\n",
       "      <th>Pohlavie</th>\n",
       "      <th>Názov školy a adresa školy</th>\n",
       "      <th>Absolvované vzdelanie:</th>\n",
       "      <th>Koľko rokov učíte INF?</th>\n",
       "      <th>Aké máte predchádzajúce skúsenosti s micro:bitmi?</th>\n",
       "      <th>Ktoré programy/platformy využívate na hodinách?</th>\n",
       "      <th>...</th>\n",
       "      <th>Ako hodnotíte nasledujúce metódy? [Diskusia]</th>\n",
       "      <th>Ako hodnotíte nasledujúce metódy? [Práca v skupine]</th>\n",
       "      <th>Ako hodnotíte nasledujúce metódy? [Kooperatívne vyučovanie]</th>\n",
       "      <th>Ako hodnotíte nasledujúce metódy? [Učenie sa pomocou objavovania]</th>\n",
       "      <th>Ako hodnotíte nasledujúce metódy? [Samostatná práca]</th>\n",
       "      <th>Ako hodnotíte nasledujúce metódy? [Storytelling/Rozprávanie príbehov]</th>\n",
       "      <th>Ako hodnotíte nasledujúce metódy? [Rovesnícke učenie]</th>\n",
       "      <th>Ako hodnotíte nasledujúce metódy? [Dramatická výchova (hra)]</th>\n",
       "      <th>Ako hodnotíte nasledujúce metódy? [Metóda otázok a odpovedí]</th>\n",
       "      <th>Súhlasím so spracovaním osobných údajov</th>\n",
       "    </tr>\n",
       "  </thead>\n",
       "  <tbody>\n",
       "  </tbody>\n",
       "</table>\n",
       "<p>0 rows × 112 columns</p>\n",
       "</div>"
      ],
      "text/plain": [
       "Empty DataFrame\n",
       "Columns: [Timestamp, Email, Meno a priezvisko, Telefónne číslo, Pohlavie, Názov školy a adresa školy, Absolvované vzdelanie:, Koľko rokov učíte INF?, Aké máte predchádzajúce skúsenosti s micro:bitmi?, Ktoré programy/platformy využívate na hodinách?, Zapojili ste sa v minulosti (aj so žiakmi) do nejakých INF projektov/súťaží? Ak áno, vymenujte., Aké mimoškolské krúžky a aktivity sú k dispozícii deťom na 2. stupni vo Vašej škole?, S akými organizáciami už spolupracujete v rámci aktivít neformálneho vzdelávania?, Aký podiel detí zo sociálne znevýhodneného prostredia navštevuje Vašu školu?, Aké prostredia ste s BBC micro:bit využívali?, Aký ďalší hardvér (príslušenstvo) pre micro:bit ste použili?, Aké materiály ste použili pri príprave na vyučovanie alebo priamo na vyučovaní?, Myslíte si, že BBC micro:bit Vám pomohol byť viac sebaistým/sebaistou vo výučbe informatiky?, Myslíte si, že výučba s BBC micro:bit spravila Vaše hodiny zaujímavejšími?, Odhadom, koľko vyučovacích hodín ste celkovo odučili s BBC micro:bit?, Čo ste schopný(á) urobiť s veľmi problémovými žiakmi?, Čo ste schopný(á) urobiť, aby ste naučil(a) žiakov kriticky myslieť?, Čo ste schopný(á) urobiť, aby ste zabránili vyrušovaniu žiakov?, Čo ste schopný(á) urobiť na zvýšenie motivácie žiakov, ktorých vyučovanie nezaujíma?, Čo ste schopný(á) urobiť, aby žiaci pochopili, aké správanie od nich očakávate?, Čo ste schopný(á) urobiť, aby ste presvedčili žiakov, že majú naviac?, Čo ste schopný(á) urobiť, keď vám žiaci dávajú ťažké otázky?, Čo ste schopný(á) urobiť, aby rutinné činnosti na vyučovaní prebiehali hladko?, Čo ste schopný(á) urobiť, aby si vaši žiaci vážili vzdelávanie?, Čo ste schopný(á) urobiť, aby žiaci lepšie pochopili učivo?, Čo ste schopný(á) urobiť, aby ste formulovali žiakom primerané otázky?, Čo ste schopný(á) urobiť na rozvíjanie tvorivosti žiakov?, Čo ste schopný(á) urobiť, aby žiaci dodržiavali školský poriadok?, Čo ste schopný(á) urobiť, aby ste prehĺbili vaše poznanie, prečo žiak neprospieva?, Čo ste schopný(á) urobiť, aby ste zvládli vyrušujúcich žiakov?, Čo ste schopný(á) urobiť, aby ste v triede zaviedli dobrý systém riadenia?, Čo ste schopný(á) urobiť, aby ste prispôsobili obtiažnosť učiva schopnostiam žiakov?, Čo ste schopný(á) urobiť, aby ste používali pestré možnosti preverovania vedomostí a zručností?, Čo ste schopný(á) urobiť, aby ste eliminovali jednotlivcov, ktorí sú schopní rozbiť celú hodinu?, Čo ste schopný(á) urobiť, keď žiaci vôbec nerozumejú učivu?, Čo ste schopný(á) urobiť voči drzým žiakom?, Čo ste schopný(á) urobiť pre rodiny, aby ich deti prospievali v škole?, Čo ste schopný(á) urobiť, aby ste zaviedli inovácie do vášho vyučovania?, Čo ste schopný(á) urobiť, aby ste podporovali rozvoj talentovaných žiakov?, Využívam IKT pri prezentovaní učiva tradičným spôsobom (výklad), Pri doučovaní alebo cez mimoškolskú činnosť využívam IKT, Využívam IKT pri diskusiách a prezentáciách, Na hodnotenie študentov (napr. testov) využívam IKT, Pri dávaní spätnej väzby využívam cez IKT, Využívam IKT pri upevňovaní učiva (opakovanie), Na podporu spolupráce medzi študentmi využívam IKT, Pri spolupráci s ostatnými učiteľmi využívam IKT, Systematicky pomáham kolegom pri zavádzaní IKT do vyučovania, Ako dobre viete využívať tabuľkový kalkulátor (napr. MS Excel) na analýzu údajov alebo vedenia záznamov?, Ako dobre sa viete zapájať do diskusie na internete?, Ako dobre viete spolupracovať s ostatnými cez zdieľané zdroje, napr. Google Docs?, Ako dobre viete inštalovať softvér (program)?, Ako dobre viete sledovať pokrok žiakov?, Ako dobre viete pripraviť vyučovaciu hodinu, kde žiakov zapájate do využívania IKT?, Ako dobre viete hodnotiť učenie žiakov?, Na prípravu vyučovania využívajúceho IKT nie je dostatok času., Na rozvoj IKT zručností nemáme dostatočné zabezpečenie (finančné, organizačné...), Nemám dostatočnú technickú podporu pri zavádzaní IKT do vyučovania, Ako často využívate na INF nasledujúce stratégie na programovanie? [Vývojové diagramy], Ako často využívate na INF nasledujúce stratégie na programovanie? [Pseudokód], Ako často využívate na INF nasledujúce stratégie na programovanie? [Programovanie vo dvojici (Párové programovanie)], Ako často využívate na INF nasledujúce stratégie na programovanie? [Debuggovanie/ladenie programov], Ako často využívate na INF nasledujúce stratégie na programovanie? [Programovanie ukážok naživo - Spoločné riešenie], Ako často využívate na INF nasledujúce stratégie na programovanie? [Krokovanie programu], Ako často využívate na INF nasledujúce stratégie na programovanie? [Bádateľské aktivity], Ako často využívate na INF nasledujúce stratégie na programovanie? [Tvorivé projekty s otvoreným koncom], Ako často využívate na INF nasledujúce stratégie na programovanie? [Kopírovanie programov], Ako často využívate na INF nasledujúce stratégie na programovanie? [Slovné vysvetľovanie programu], Ako často využívate na INF nasledujúce stratégie na programovanie? [Komentovanie programu], Ako často využívate na INF nasledujúce stratégie na programovanie? [Medzipredmetové vzťahy], Ako hodnotíte nasledujúce metódy? [Vývojové diagramy], Ako hodnotíte nasledujúce metódy? [Pseudokód], Ako hodnotíte nasledujúce metódy? [Programovanie vo dvojici (Párové programovanie)], Ako hodnotíte nasledujúce metódy? [Debuggovanie/ladenie programov], Ako hodnotíte nasledujúce metódy? [Programovanie ukážok naživo - Spoločné riešenie], Ako hodnotíte nasledujúce metódy? [Krokovanie programu], Ako hodnotíte nasledujúce metódy? [Bádateľské aktivity], Ako hodnotíte nasledujúce metódy? [Tvorivé projekty s otvoreným koncom], Ako hodnotíte nasledujúce metódy? [Kopírovanie programov], Ako hodnotíte nasledujúce metódy? [Slovné vysvetľovanie programu], Ako hodnotíte nasledujúce metódy? [Komentovanie programu], Ako hodnotíte nasledujúce metódy? [Medzipredmetové vzťahy], Ako často využívate na INF nasledujúce metódy? [Prezentácia], Ako často využívate na INF nasledujúce metódy? [Ukážka], Ako často využívate na INF nasledujúce metódy? [Tvorba projektov], Ako často využívate na INF nasledujúce metódy? [Diskusia], Ako často využívate na INF nasledujúce metódy? [Práca v skupine], Ako často využívate na INF nasledujúce metódy? [Kooperatívne vyučovanie], Ako často využívate na INF nasledujúce metódy? [Učenie sa pomocou objavovania], Ako často využívate na INF nasledujúce metódy? [Samostatná práca], Ako často využívate na INF nasledujúce metódy? [Storytelling/Rozprávanie príbehov], Ako často využívate na INF nasledujúce metódy? [Rovesnícke učenie], Ako často využívate na INF nasledujúce metódy? [Dramatická výchova (hra)], Ako často využívate na INF nasledujúce metódy? [Metóda otázok a odpovedí], Ako hodnotíte nasledujúce metódy? [Prezentácia], ...]\n",
       "Index: []\n",
       "\n",
       "[0 rows x 112 columns]"
      ]
     },
     "execution_count": 168,
     "metadata": {},
     "output_type": "execute_result"
    }
   ],
   "source": [
    "pre_data[pre_data['Email'].duplicated()]"
   ]
  },
  {
   "cell_type": "code",
   "execution_count": 169,
   "id": "ae697c25",
   "metadata": {},
   "outputs": [],
   "source": [
    "post_data['Email'] = post_data['Email'].str.strip()"
   ]
  },
  {
   "cell_type": "code",
   "execution_count": 170,
   "id": "5a02b38c",
   "metadata": {},
   "outputs": [
    {
     "data": {
      "text/html": [
       "<div>\n",
       "<style scoped>\n",
       "    .dataframe tbody tr th:only-of-type {\n",
       "        vertical-align: middle;\n",
       "    }\n",
       "\n",
       "    .dataframe tbody tr th {\n",
       "        vertical-align: top;\n",
       "    }\n",
       "\n",
       "    .dataframe thead th {\n",
       "        text-align: right;\n",
       "    }\n",
       "</style>\n",
       "<table border=\"1\" class=\"dataframe\">\n",
       "  <thead>\n",
       "    <tr style=\"text-align: right;\">\n",
       "      <th></th>\n",
       "      <th>Timestamp</th>\n",
       "      <th>Email</th>\n",
       "      <th>Číslo žiadosti</th>\n",
       "      <th>Meno a priezvisko</th>\n",
       "      <th>Telefónne číslo</th>\n",
       "      <th>Pohlavie</th>\n",
       "      <th>Názov školy a adresa školy</th>\n",
       "      <th>Zmenil sa počas školského roka zodpovedný riešiteľ projektu? (napr. kolega odišiel a Vy ste prevzali jeho projekt)</th>\n",
       "      <th>Absolvované vzdelanie:</th>\n",
       "      <th>Koľko rokov učíte INF?</th>\n",
       "      <th>...</th>\n",
       "      <th>Ako hodnotíte nasledujúce metódy? [Tvorba projektov]</th>\n",
       "      <th>Ako hodnotíte nasledujúce metódy? [Diskusia]</th>\n",
       "      <th>Ako hodnotíte nasledujúce metódy? [Práca v skupine]</th>\n",
       "      <th>Ako hodnotíte nasledujúce metódy? [Kooperatívne vyučovanie]</th>\n",
       "      <th>Ako hodnotíte nasledujúce metódy? [Učenie sa pomocou objavovania]</th>\n",
       "      <th>Ako hodnotíte nasledujúce metódy? [Samostatná práca]</th>\n",
       "      <th>Ako hodnotíte nasledujúce metódy? [Storytelling/Rozprávanie príbehov]</th>\n",
       "      <th>Ako hodnotíte nasledujúce metódy? [Rovesnícke učenie]</th>\n",
       "      <th>Ako hodnotíte nasledujúce metódy? [Dramatická výchova (hra)]</th>\n",
       "      <th>Ako hodnotíte nasledujúce metódy? [Metóda otázok a odpovedí]</th>\n",
       "    </tr>\n",
       "  </thead>\n",
       "  <tbody>\n",
       "  </tbody>\n",
       "</table>\n",
       "<p>0 rows × 130 columns</p>\n",
       "</div>"
      ],
      "text/plain": [
       "Empty DataFrame\n",
       "Columns: [Timestamp, Email, Číslo žiadosti, Meno a priezvisko, Telefónne číslo, Pohlavie, Názov školy a adresa školy, Zmenil sa počas školského roka zodpovedný riešiteľ projektu? (napr. kolega odišiel a Vy ste prevzali jeho projekt), Absolvované vzdelanie:, Koľko rokov učíte INF?, Aké máte skúsenosti s micro:bitmi?, Ktoré programy/platformy využívate na hodinách?, Zapojili ste sa tento školský rok (aj so žiakmi) do nejakých INF projektov/súťaží? Ak áno, vymenujte., S akými organizáciami už spolupracujete v rámci aktivít neformálneho vzdelávania?, Všimli ste si záujem kolegov (učiteľov iných predmetov) ohľadom micro:bit aktivít?, Aký podiel detí zo sociálne znevýhodneného prostredia navštevuje Vašu školu?, Aké prostredia ste s BBC micro:bit využívali?, Aký HW pre micro:bit ste použili?, Aké materiály ste použili pri príprave na vyučovanie alebo priamo na vyučovaní?, Myslíte si, že BBC micro:bit Vám pomohol byť viac sebaistým/sebaistou vo výučbe informatiky?, Myslíte si, že výučba s BBC micro:bit spravila Vaše hodiny zaujímavejšími?, Odhadom, koľko vyučovacích hodín ste celkovo odučili s BBC micro:bit? Prosím, napíšte LEN číslo., Zúčastnili ste sa ENTER školení?, Mám pocit, že som sa vďaka ENTER školeniam o BBC micro:bite... (možno vybrať viac odpovedí), Ako veľmi ste sa posunuli pedagogicky?, Ako veľmi ste sa posunuli odborne?, Plánujete sa do ENTER projektu zapojiť aj v budúcnosti?, Podarilo sa Vám v rámci ENTER projektu splniť ciele?, BBC micro:bit ukázal mojim žiakom, že je ľahšie programovať, ako si mysleli., Vďaka BBC micro:bit sa moji žiaci chceli dozvedieť viac o programovaní a technológiách., Pri práci s BBC micro:bit som zažil, že moji žiaci vyjadrujú, že technológie sú niečo pre nich., Do akej miery BBC micro:bit pomohol žiakom spozitívniť postoj k technológiám?, Pomohol Vám projekt ENTER učiť žiakov používať programovanie na kreatívne riešenia problémov?, Inšpiroval Vás Projekt ENTER vo vytváraní vlastných učebných materiálov / aktivít s micro:bitom?, Zúčastnili ste sa za uplynulý rok nejakých učiteľských školení (nie iba INF) alebo ste sa zapojili aj do iného nového projektu ako projektu ENTER? Ak áno, prosím, vymenujte., S koľkými žiakmi ste celkovo pracovali s micro:bitmi? (aspoň 1 hodinu), S koľkými žiakmi ste sa micro:bitom venovali dlhodobejšie? (aspoň 1 hodinu), Dostali ste podporu v realizovaní projektu aj od Vášho vedenia?, Zapožičali ste micro:bity domov žiakom počas dištančného vyučovania?, Čo ste schopný(á) urobiť s veľmi problémovými žiakmi?, Čo ste schopný(á) urobiť, aby ste naučil(a) žiakov kriticky myslieť?, Čo ste schopný(á) urobiť, aby ste zabránili vyrušovaniu žiakov?, Čo ste schopný(á) urobiť na zvýšenie motivácie žiakov, ktorých vyučovanie nezaujíma?, Čo ste schopný(á) urobiť, aby žiaci pochopili, aké správanie od nich očakávate?, Čo ste schopný(á) urobiť, aby ste presvedčili žiakov, že majú naviac?, Čo ste schopný(á) urobiť, keď vám žiaci dávajú ťažké otázky?, Čo ste schopný(á) urobiť, aby rutinné činnosti na vyučovaní prebiehali hladko?, Čo ste schopný(á) urobiť, aby si vaši žiaci vážili vzdelávanie?, Čo ste schopný(á) urobiť, aby žiaci lepšie pochopili učivo?, Čo ste schopný(á) urobiť, aby ste formulovali žiakom primerané otázky?, Čo ste schopný(á) urobiť na rozvíjanie tvorivosti žiakov?, Čo ste schopný(á) urobiť, aby žiaci dodržiavali školský poriadok?, Čo ste schopný(á) urobiť, aby ste prehĺbili vaše poznanie, prečo žiak neprospieva?, Čo ste schopný(á) urobiť, aby ste zvládli vyrušujúcich žiakov?, Čo ste schopný(á) urobiť, aby ste v triede zaviedli dobrý systém riadenia?, Čo ste schopný(á) urobiť, aby ste prispôsobili obtiažnosť učiva schopnostiam žiakov?, Čo ste schopný(á) urobiť, aby ste používali pestré možnosti preverovania vedomostí a zručností?, Čo ste schopný(á) urobiť, aby ste eliminovali jednotlivcov, ktorí sú schopní rozbiť celú hodinu?, Čo ste schopný(á) urobiť, keď žiaci vôbec nerozumejú učivu?, Čo ste schopný(á) urobiť voči drzým žiakom?, Čo ste schopný(á) urobiť pre rodiny, aby ich deti prospievali v škole?, Čo ste schopný(á) urobiť, aby ste zaviedli inovácie do vášho vyučovania?, Čo ste schopný(á) urobiť, aby ste podporovali rozvoj talentovaných žiakov?, Prezentovanie učiva tradičným spôsobom (výklad), Poskytovanie doučovania alebo aktivít nad rámec vyučovania (mimoškolská činnosť), Diskusie a prezentácie študentov v rámci triedy, Hodnotenie študentov pomocou testov, Poskytovanie spätnej väzby študentom, Upevňovanie učiva cez opakovanie príkladov, Podpora spolupráce medzi študentmi, Spolupracujem s ostatnými učiteľmi, Systematicky pomáham kolegom pri zavádzaní IKT do vyučovania, Ako dobre viete využívať tabuľkový kalkulátor (napr. MS Excel) na analýzu údajov alebo vedenia záznamov?, Ako dobre sa viete zapájať do diskusie na internete?, Ako dobre viete spolupracovať s ostatnými cez zdieľané zdroje, napr. Google Docs?, Ako dobre viete inštalovať softvér (program)?, Ako dobre viete sledovať pokrok žiakov?, Ako dobre viete pripraviť vyučovaciu hodinu, kde žiakov zapájate do využívania IKT?, Ako dobre viete hodnotiť učenie žiakov?, Na prípravu vyučovania využívajúceho IKT nie je dostatok času., Na rozvoj IKT zručností nemáme dostatočné zabezpečenie (finančné, organizačné...), Nemám dostatočnú technickú podporu pri zavádzaní IKT do vyučovania, Ako často využívate na INF nasledujúce stratégie na programovanie? [Vývojové diagramy], Ako často využívate na INF nasledujúce stratégie na programovanie? [Pseudokód], Ako často využívate na INF nasledujúce stratégie na programovanie? [Programovanie vo dvojici (Párové programovanie)], Ako často využívate na INF nasledujúce stratégie na programovanie? [Debuggovanie/ladenie programov], Ako často využívate na INF nasledujúce stratégie na programovanie? [Programovanie ukážok naživo - Spoločné riešenie], Ako často využívate na INF nasledujúce stratégie na programovanie? [Krokovanie programu], Ako často využívate na INF nasledujúce stratégie na programovanie? [Bádateľské aktivity], Ako často využívate na INF nasledujúce stratégie na programovanie? [Tvorivé projekty s otvoreným koncom], Ako často využívate na INF nasledujúce stratégie na programovanie? [Kopírovanie programov], Ako často využívate na INF nasledujúce stratégie na programovanie? [Slovné vysvetľovanie programu], Ako často využívate na INF nasledujúce stratégie na programovanie? [Komentovanie programu], Ako často využívate na INF nasledujúce stratégie na programovanie? [Medzipredmetové vzťahy], Ako hodnotíte nasledujúce metódy? [Vývojové diagramy], Ako hodnotíte nasledujúce metódy? [Pseudokód], Ako hodnotíte nasledujúce metódy? [Programovanie vo dvojici (Párové programovanie)], Ako hodnotíte nasledujúce metódy? [Debuggovanie/ladenie programov], Ako hodnotíte nasledujúce metódy? [Programovanie ukážok naživo - Spoločné riešenie], Ako hodnotíte nasledujúce metódy? [Krokovanie programu], ...]\n",
       "Index: []\n",
       "\n",
       "[0 rows x 130 columns]"
      ]
     },
     "execution_count": 170,
     "metadata": {},
     "output_type": "execute_result"
    }
   ],
   "source": [
    "post_data[post_data['Email'].duplicated()]"
   ]
  },
  {
   "cell_type": "markdown",
   "id": "afc4e6cf",
   "metadata": {},
   "source": [
    "## Párovanie"
   ]
  },
  {
   "cell_type": "code",
   "execution_count": 171,
   "id": "ec29a75f",
   "metadata": {},
   "outputs": [],
   "source": [
    "pre_data.columns = pre_data.columns.str.strip()\n",
    "post_data.columns = post_data.columns.str.strip()"
   ]
  },
  {
   "cell_type": "code",
   "execution_count": 172,
   "id": "5ee031a5",
   "metadata": {},
   "outputs": [
    {
     "name": "stdout",
     "output_type": "stream",
     "text": [
      "Matched 140 emails\n",
      "Did not match 9 emails\n"
     ]
    }
   ],
   "source": [
    "# Pomocnú cyklus na prezistenie, ktoré záznamy nie je možné spárovať\n",
    "# (slúži pri manuálnom opravovaní mailových adries aby bolo možné záznamy spárovať)\n",
    "\n",
    "matched_emails = []\n",
    "matched_ids = []\n",
    "not_matched_emails = []\n",
    "\n",
    "for index, post_data_row in post_data.iterrows():\n",
    "    pre_data_row = pre_data.loc[pre_data['Email'] == post_data_row['Email']]\n",
    "    if len(pre_data_row):\n",
    "        matched_emails.append(pre_data_row['Email'].item())\n",
    "        matched_ids.append({\"pre\": pre_data_row.index.values[0], \"post\": index})\n",
    "    else:\n",
    "        not_matched_emails.append(post_data_row['Email'])\n",
    "#         print(f\"Unmatched: {post_data_row['Email']} | \" \\\n",
    "#               f\"{post_data_row['Meno a priezvisko']} | {post_data_row['Názov školy a adresa školy']}\")\n",
    "\n",
    "print(f\"Matched {len(matched_emails)} emails\")\n",
    "print(f\"Did not match {len(not_matched_emails)} emails\")"
   ]
  },
  {
   "cell_type": "markdown",
   "id": "db7bc387",
   "metadata": {},
   "source": [
    "## Tvorba novej tabuľky s len spárovanými údajmi"
   ]
  },
  {
   "cell_type": "code",
   "execution_count": 173,
   "id": "09cf36b5",
   "metadata": {},
   "outputs": [],
   "source": [
    "# Premenovanie stĺpcov\n",
    "pre_data = pre_data.add_prefix(\"PRE \")\n",
    "post_data = post_data.add_prefix(\"POST \")"
   ]
  },
  {
   "cell_type": "code",
   "execution_count": 174,
   "id": "ebb73a0e",
   "metadata": {},
   "outputs": [],
   "source": [
    "merged_data = pre_data.copy()\n",
    "merged_data = merged_data.merge(post_data, left_on=\"PRE Email\", right_on=\"POST Email\", how=\"inner\")"
   ]
  },
  {
   "cell_type": "code",
   "execution_count": 175,
   "id": "0d066447",
   "metadata": {},
   "outputs": [],
   "source": [
    "merged_data.to_csv(\"meranie_2021_merged.csv\")"
   ]
  },
  {
   "cell_type": "markdown",
   "id": "5eddb5ce",
   "metadata": {},
   "source": [
    "## Transformácia textových likertových škál na číselné"
   ]
  },
  {
   "cell_type": "code",
   "execution_count": 176,
   "id": "2901fd3f",
   "metadata": {},
   "outputs": [],
   "source": [
    "def to_number_ako_casto(val):\n",
    "    if val == \"nikdy\":\n",
    "        return 1\n",
    "    elif val == \"zriedka\":\n",
    "        return 2\n",
    "    elif val == \"občas\":\n",
    "        return 3\n",
    "    elif val == \"veľmi často\":\n",
    "        return 4\n",
    "    elif val == \"neustále\":\n",
    "        return 5\n",
    "    else:\n",
    "        raise Exception(f\"No such {val}\")\n",
    "\n",
    "def to_number_ako_dobre(val):\n",
    "    if val == \"nie som v tom dobrý/á\":\n",
    "        return 1\n",
    "    elif val == \"som v tom priemerne dobrý/á\":\n",
    "        return 2\n",
    "    elif val == \"som v tom dobrý/á\":\n",
    "        return 3\n",
    "    else:\n",
    "        raise Exception(f\"No such {val}\")\n",
    "\n",
    "def to_number_ako_hodnotite(val):\n",
    "    if val == \"neefektívne\":\n",
    "        return 1\n",
    "    elif val == \"skôr neefektívne\":\n",
    "        return 2\n",
    "    elif val == \"skôr efektívne\":\n",
    "        return 3\n",
    "    elif val == \"efektívne\":\n",
    "        return 4\n",
    "    else:\n",
    "        raise Exception(f\"No such {val}\")"
   ]
  },
  {
   "cell_type": "code",
   "execution_count": 177,
   "id": "81bb0e6b",
   "metadata": {},
   "outputs": [],
   "source": [
    "for column_name in merged_data.columns:\n",
    "    text_to_number_function = None\n",
    "    if \"Ako dobre\" in column_name:\n",
    "        text_to_number_function = to_number_ako_dobre\n",
    "    elif \"Ako často\" in column_name:\n",
    "        text_to_number_function = to_number_ako_casto\n",
    "    elif \"Ako hodnotíte\" in column_name:\n",
    "        text_to_number_function = to_number_ako_hodnotite\n",
    "    \n",
    "    if text_to_number_function is not None:\n",
    "        merged_data[column_name] = merged_data[column_name].apply(lambda x: text_to_number_function(x))"
   ]
  },
  {
   "cell_type": "markdown",
   "id": "e3e03aed",
   "metadata": {},
   "source": [
    "## Vypočítaj diff stĺpce"
   ]
  },
  {
   "cell_type": "code",
   "execution_count": 181,
   "id": "d9076005",
   "metadata": {},
   "outputs": [],
   "source": [
    "for column_name in merged_data.columns:\n",
    "    if column_name.startswith(\"POST \"):\n",
    "        bare_column_name = column_name[5:]\n",
    "        pre_column_name = f\"PRE {bare_column_name}\"\n",
    "        if pre_column_name in merged_data.columns:\n",
    "            if is_numeric_dtype(merged_data[pre_column_name].dtype):\n",
    "                diff_column_name = f\"DIFF {bare_column_name}\"\n",
    "                merged_data[diff_column_name] = merged_data[column_name] - merged_data[pre_column_name]\n"
   ]
  },
  {
   "cell_type": "code",
   "execution_count": 182,
   "id": "7144f766",
   "metadata": {},
   "outputs": [],
   "source": [
    "merged_data.to_csv(\"meranie_2021_merged.csv\")"
   ]
  },
  {
   "cell_type": "markdown",
   "id": "ccee14c0",
   "metadata": {},
   "source": [
    "## Pairplot"
   ]
  },
  {
   "cell_type": "code",
   "execution_count": 183,
   "id": "c452a831",
   "metadata": {},
   "outputs": [],
   "source": [
    "# Žiadna korelácia sa nenašla\n",
    "\n",
    "# sea.pairplot(\n",
    "#     merged_data,\n",
    "#     x_vars=[\n",
    "#         'POST Odhadom, koľko vyučovacích hodín ste celkovo odučili s BBC micro:bit? Prosím, napíšte LEN číslo.',\n",
    "#         'PRE Odhadom, koľko vyučovacích hodín ste celkovo odučili s BBC micro:bit?',\n",
    "#     ],\n",
    "#     y_vars=merged_data.filter(regex=(\"DIFF *\")).columns,\n",
    "# )"
   ]
  },
  {
   "cell_type": "markdown",
   "id": "64104121",
   "metadata": {},
   "source": [
    "## Hľadanie výraznejších zmien"
   ]
  },
  {
   "cell_type": "markdown",
   "id": "5f2ed6e6-fd1e-4302-886c-4238ca7a5f0a",
   "metadata": {},
   "source": [
    "Najprv vyskúšame pozrieť priemer všetkých DIFF atribútov."
   ]
  },
  {
   "cell_type": "code",
   "execution_count": 184,
   "id": "4cad4b8d",
   "metadata": {},
   "outputs": [
    {
     "name": "stdout",
     "output_type": "stream",
     "text": [
      "0.9714285714285714 DIFF Koľko rokov učíte INF?\n",
      "-0.30714285714285716 DIFF Čo ste schopný(á) urobiť, aby ste naučil(a) žiakov kriticky myslieť?\n",
      "-0.2357142857142857 DIFF Čo ste schopný(á) urobiť, aby ste používali pestré možnosti preverovania vedomostí a zručností?\n",
      "-0.2 DIFF Čo ste schopný(á) urobiť, aby ste podporovali rozvoj talentovaných žiakov?\n",
      "0.3 DIFF Ako často využívate na INF nasledujúce stratégie na programovanie? [Programovanie vo dvojici (Párové programovanie)]\n"
     ]
    }
   ],
   "source": [
    "for col_name in merged_data.filter(regex=(\"DIFF *\")).columns:\n",
    "    col_mean = merged_data[col_name].mean()\n",
    "    if abs(col_mean) >= 0.2:\n",
    "        print(col_mean, col_name)"
   ]
  },
  {
   "cell_type": "markdown",
   "id": "3b5eb2ca-0fb3-4ce1-990a-36daf59bf58c",
   "metadata": {},
   "source": [
    "Keďže priemer všetkých DIFF atribútov nevykázal výraznejšie zmeny (okrem \"Koľko rokov učíte INF\", kde je medián zmeny približne 1 rok) skúsime odstrániť záznamy, kde učitelia majú DIFF v počte rokov vyš."
   ]
  },
  {
   "cell_type": "code",
   "execution_count": 185,
   "id": "61792abd-7e70-4387-a033-d763e21d9b06",
   "metadata": {},
   "outputs": [],
   "source": [
    "diff_years = merged_data['DIFF Koľko rokov učíte INF?'].tolist()"
   ]
  },
  {
   "cell_type": "code",
   "execution_count": 186,
   "id": "c86a7d70-534e-408f-ab82-ec74b4507ec2",
   "metadata": {},
   "outputs": [
    {
     "name": "stdout",
     "output_type": "stream",
     "text": [
      "0.45 DIFF Koľko rokov učíte INF?\n",
      "-0.21 DIFF Čo ste schopný(á) urobiť s veľmi problémovými žiakmi?\n",
      "-0.27 DIFF Čo ste schopný(á) urobiť, aby ste naučil(a) žiakov kriticky myslieť?\n",
      "-0.19 DIFF Čo ste schopný(á) urobiť, aby žiaci pochopili, aké správanie od nich očakávate?\n",
      "-0.21 DIFF Čo ste schopný(á) urobiť, aby si vaši žiaci vážili vzdelávanie?\n",
      "-0.19 DIFF Čo ste schopný(á) urobiť, aby ste prispôsobili obtiažnosť učiva schopnostiam žiakov?\n",
      "-0.2 DIFF Čo ste schopný(á) urobiť, aby ste zaviedli inovácie do vášho vyučovania?\n",
      "0.37 DIFF Ako často využívate na INF nasledujúce stratégie na programovanie? [Programovanie vo dvojici (Párové programovanie)]\n",
      "0.21 DIFF Ako často využívate na INF nasledujúce stratégie na programovanie? [Debuggovanie/ladenie programov]\n",
      "-0.19 DIFF Ako hodnotíte nasledujúce metódy? [Slovné vysvetľovanie programu]\n"
     ]
    }
   ],
   "source": [
    "cleaned_merged_data = merged_data[merged_data['DIFF Koľko rokov učíte INF?'].isin([-2, -1, 0, 1, 2])]\n",
    "\n",
    "for col_name in cleaned_merged_data.filter(regex=(\"DIFF *\")).columns:\n",
    "    col_mean = cleaned_merged_data[col_name].mean()\n",
    "    if abs(col_mean) >= 0.18:\n",
    "        print(col_mean, col_name)"
   ]
  },
  {
   "cell_type": "code",
   "execution_count": 187,
   "id": "cb5701a5-aa6b-4b6f-b146-d3d048624c86",
   "metadata": {},
   "outputs": [],
   "source": [
    "pre_pair_programming = merged_data[\n",
    "    'PRE Ako často využívate na INF nasledujúce stratégie na programovanie? [Programovanie vo dvojici (Párové programovanie)]'\n",
    "].mean()"
   ]
  },
  {
   "cell_type": "code",
   "execution_count": 188,
   "id": "368a7357",
   "metadata": {},
   "outputs": [],
   "source": [
    "post_pair_programming = merged_data[\n",
    "    'POST Ako často využívate na INF nasledujúce stratégie na programovanie? [Programovanie vo dvojici (Párové programovanie)]'\n",
    "].mean()"
   ]
  },
  {
   "cell_type": "code",
   "execution_count": 189,
   "id": "306fda54-b901-44c4-907c-2d5d078cf3a3",
   "metadata": {},
   "outputs": [
    {
     "name": "stdout",
     "output_type": "stream",
     "text": [
      "10.741687979539652\n"
     ]
    }
   ],
   "source": [
    "pair_programming_change = (post_pair_programming-pre_pair_programming)/pre_pair_programming*100\n",
    "print(pair_programming_change)"
   ]
  },
  {
   "cell_type": "markdown",
   "id": "ae640f5f-dd03-482d-a0be-68a071680d92",
   "metadata": {},
   "source": [
    "Párové programovanie začali učitelia využívať až o **10% častejšie.**"
   ]
  },
  {
   "cell_type": "code",
   "execution_count": 190,
   "id": "2d93a71a-68b8-4d84-91ed-6cb19f73d34e",
   "metadata": {},
   "outputs": [
    {
     "data": {
      "text/plain": [
       "<seaborn.axisgrid.PairGrid at 0x7fc7eb5b99d0>"
      ]
     },
     "execution_count": 190,
     "metadata": {},
     "output_type": "execute_result"
    },
    {
     "data": {
      "image/png": "[encoded data removed]",
      "text/plain": [
       "<Figure size 378.25x180 with 1 Axes>"
      ]
     },
     "metadata": {
      "needs_background": "light"
     },
     "output_type": "display_data"
    }
   ],
   "source": [
    "sea.pairplot(\n",
    "    merged_data,\n",
    "    x_vars=[\n",
    "        'POST Ako často využívate na INF nasledujúce stratégie na programovanie? [Programovanie vo dvojici (Párové programovanie)]',\n",
    "    ],\n",
    "    y_vars=[\n",
    "        'POST Odhadom, koľko vyučovacích hodín ste celkovo odučili s BBC micro:bit? Prosím, napíšte LEN číslo.',\n",
    "    ],\n",
    "    hue='POST Zúčastnili ste sa ENTER školení?'\n",
    ")"
   ]
  },
  {
   "cell_type": "code",
   "execution_count": 191,
   "id": "fba7af72-5eed-4abf-9056-db680d3cc952",
   "metadata": {
    "tags": []
   },
   "outputs": [
    {
     "data": {
      "text/plain": [
       "<AxesSubplot:ylabel='POST Zúčastnili ste sa ENTER školení?'>"
      ]
     },
     "execution_count": 191,
     "metadata": {},
     "output_type": "execute_result"
    },
    {
     "data": {
      "image/png": "[encoded data removed]",
      "text/plain": [
       "<Figure size 432x288 with 1 Axes>"
      ]
     },
     "metadata": {},
     "output_type": "display_data"
    }
   ],
   "source": [
    "merged_data['POST Zúčastnili ste sa ENTER školení?'].value_counts().plot(kind='pie')"
   ]
  },
  {
   "cell_type": "code",
   "execution_count": 192,
   "id": "7395b160-ec81-4166-8d79-49fc6fecc2f3",
   "metadata": {},
   "outputs": [
    {
     "data": {
      "text/plain": [
       "POST Zúčastnili ste sa ENTER školení?\n",
       "nevedel(a) som o tom    20.00000\n",
       "nie                     33.62500\n",
       "áno                     45.21374\n",
       "Name: POST Odhadom, koľko vyučovacích hodín ste celkovo odučili s BBC micro:bit? Prosím, napíšte LEN číslo., dtype: float64"
      ]
     },
     "execution_count": 192,
     "metadata": {},
     "output_type": "execute_result"
    }
   ],
   "source": [
    "merged_data[[\n",
    "    # 'POST Pohlavie',\n",
    "    'POST Zúčastnili ste sa ENTER školení?',\n",
    "    'POST Odhadom, koľko vyučovacích hodín ste celkovo odučili s BBC micro:bit? Prosím, napíšte LEN číslo.',\n",
    "]].groupby('POST Zúčastnili ste sa ENTER školení?')['POST Odhadom, koľko vyučovacích hodín ste celkovo odučili s BBC micro:bit? Prosím, napíšte LEN číslo.'].mean()"
   ]
  },
  {
   "cell_type": "markdown",
   "id": "080e2b4b-733f-4c00-b4bd-6d73baef3a82",
   "metadata": {},
   "source": [
    "**Učitelia, ktorí sa zúčastnili našich kurzov v priemere odučili o polovicu viac hodín informatiky s micro:bitmi\n",
    "ako tí, ktorí sa našich kurzov nezúčastnili.**"
   ]
  },
  {
   "cell_type": "markdown",
   "id": "6ce3d9cc",
   "metadata": {},
   "source": [
    "# Hypotézy\n",
    "1. Existuje súvislosť medzi počtom odučených hodín s micro:bitmi a posunom vo vnímanej sebaúčinnosti (24 atribútov s hodnotami od 1 (najmnej) po 10 (najviac), sledujeme posun).\n",
    "2. V menších obciach je zmena v sebaúčinnosti väčšia ako vo väčších obciach.\n",
    "3. Na základe počtu odučených žiakov a veľkosti mesta vieme predikovať zmenu v sebaúčinnosti.\n",
    "\n",
    "\n",
    "\n",
    "Nerobíme:\n",
    "- Existuje súvislosť medzi počtom odučených rokov informatiky a mierou využívania práce v skupinách na hodinách INF (prácu v skupinách môžeme nahradiť aj diskusiou, projektovou prácou, atď.)\n",
    "- Existuje súvislosť medzi počtom odučených hodín s micro:bitmi a vo vnímanom posune v odbornosti? "
   ]
  },
  {
   "cell_type": "markdown",
   "id": "a4b27eb2",
   "metadata": {},
   "source": [
    "# Porovnanie so zoznamom všetkých škôl na Slovensku\n",
    "- Hypotéza: Školám s horším hodnotením INEKO častejšie zamietli projekt oproti školám s lepším hodnotením INEKO."
   ]
  },
  {
   "cell_type": "code",
   "execution_count": null,
   "id": "b01d157d-c26f-425c-84c0-cee1a825c780",
   "metadata": {},
   "outputs": [],
   "source": []
  }
 ],
 "metadata": {
  "kernelspec": {
   "display_name": "Python 3 (ipykernel)",
   "language": "python",
   "name": "python3"
  },
  "language_info": {
   "codemirror_mode": {
    "name": "ipython",
    "version": 3
   },
   "file_extension": ".py",
   "mimetype": "text/x-python",
   "name": "python",
   "nbconvert_exporter": "python",
   "pygments_lexer": "ipython3",
   "version": "3.8.10"
  }
 },
 "nbformat": 4,
 "nbformat_minor": 5
}
